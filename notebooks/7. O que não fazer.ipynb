{
 "metadata": {
  "name": "",
  "signature": "sha256:beb7d19f2e83a307fa75535564acd0108bdfbc0e7e66b76874f977b75f1e7b54"
 },
 "nbformat": 3,
 "nbformat_minor": 0,
 "worksheets": []
}