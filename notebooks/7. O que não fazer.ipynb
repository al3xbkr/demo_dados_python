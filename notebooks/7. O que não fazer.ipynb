{
 "metadata": {
  "name": "",
  "signature": "sha256:b885379b5f21410a5214a09efbedf9389f166a159eeb1e1ee552e0c21b40e9e8"
 },
 "nbformat": 3,
 "nbformat_minor": 0,
 "worksheets": [
  {
   "cells": [
    {
     "cell_type": "markdown",
     "metadata": {},
     "source": [
      "#7. N\u00c3O FA\u00c7A ISSO <img src=\"http://media.giphy.com/media/Qu0qzc5pcildS/giphy.gif\" align=\"right\">"
     ]
    },
    {
     "cell_type": "markdown",
     "metadata": {},
     "source": [
      "#1. N\u00c3O TENTE USAR DADOS PARA PROVAR UM PONTO QUE VOC\u00ca ACREDITAVA ANTERIORMENTE"
     ]
    },
    {
     "cell_type": "markdown",
     "metadata": {},
     "source": [
      "#2. N\u00c3O EXCLUA DADOS QUE N\u00c3O CONTRIBUEM COM O SEU PONTO DE VISTA (CHERRY PICKING)"
     ]
    },
    {
     "cell_type": "markdown",
     "metadata": {},
     "source": [
      "#3. PRIME PELA OBJETIVIDADE, AINDA QUE A COMPLETA OBJETIVIDADE SEJA DIF\u00cdCIL DE SER ALCAN\u00c7ADA "
     ]
    },
    {
     "cell_type": "markdown",
     "metadata": {},
     "source": [
      "#4. VOC\u00ca PODE USAR ESTAT\u00cdSTICA PARA PROVAR QUALQUER COISA, MAS LEMBRE-SE QUE A GENTE TEM TEMPO INFINITO PRA DESCOBRIR FALHAS E FALCATRUAS"
     ]
    },
    {
     "cell_type": "code",
     "collapsed": false,
     "input": [],
     "language": "python",
     "metadata": {},
     "outputs": []
    }
   ],
   "metadata": {}
  }
 ]
}