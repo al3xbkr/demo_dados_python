{
 "metadata": {
  "name": "",
  "signature": "sha256:1400d51b8a21ffbad83e966e859bbec3234fcd8f4112285db45ef77b4ae1694c"
 },
 "nbformat": 3,
 "nbformat_minor": 0,
 "worksheets": [
  {
   "cells": [
    {
     "cell_type": "markdown",
     "metadata": {},
     "source": [
      "#7. N\u00c3O FA\u00c7A ISSO <img src=\"http://media.giphy.com/media/Qu0qzc5pcildS/giphy.gif\" align=\"right\">"
     ]
    },
    {
     "cell_type": "markdown",
     "metadata": {},
     "source": [
      "#1. N\u00c3O TENTE USAR DADOS PARA PROVAR UM PONTO QUE VOC\u00ca ACREDITAVA ANTERIORMENTE"
     ]
    },
    {
     "cell_type": "markdown",
     "metadata": {},
     "source": [
      "#2. N\u00c3O EXCLUA DADOS QUE N\u00c3O CONTRIBUEM COM O SEU PONTO DE VISTA (CHERRY PICKING)"
     ]
    },
    {
     "cell_type": "markdown",
     "metadata": {},
     "source": [
      "#3. PRIME PELA OBJETIVIDADE, AINDA QUE A COMPLETA OBJETIVIDADE SEJA DIF\u00cdCIL DE SER ALCAN\u00c7ADA "
     ]
    },
    {
     "cell_type": "markdown",
     "metadata": {},
     "source": [
      "#4. VOC\u00ca PODE USAR ESTAT\u00cdSTICA PARA PROVAR QUALQUER COISA, MAS LEMBRE-SE QUE A GENTE TEM TEMPO INFINITO PRA DESCOBRIR FALHAS E FALCATRUAS"
     ]
    },
    {
     "cell_type": "markdown",
     "metadata": {},
     "source": [
      "<h1 style=\"background-color: #0F0\"> vlw flw </h1>"
     ]
    },
    {
     "cell_type": "markdown",
     "metadata": {},
     "source": [
      "##Copyleft 2015\n",
      "\n",
      "code is avaiable @ https://github.com/matehackers/demo_dados_python\n",
      "\n",
      "demo is avaiable @ http://nbviewer.ipython.org/github/matehackers/demo_dados_python/tree/master/notebooks/\n",
      "\n",
      "## my twitter handle is <a href=\"https://twitter.com/@hoarf\">@hoarf</a> for questions"
     ]
    },
    {
     "cell_type": "code",
     "collapsed": false,
     "input": [],
     "language": "python",
     "metadata": {},
     "outputs": []
    }
   ],
   "metadata": {}
  }
 ]
}