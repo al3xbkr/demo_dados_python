{
 "metadata": {
  "name": "",
  "signature": "sha256:a4099d24273cf0535ed85c907959788faf0b5f62ff3e9da7018fbdcb040e14f9"
 },
 "nbformat": 3,
 "nbformat_minor": 0,
 "worksheets": [
  {
   "cells": [
    {
     "cell_type": "markdown",
     "metadata": {},
     "source": [
      "#CURSO DEMO DE MANIPULACAO DE DADOS USANDO ~~MAGIA~~ PYTHON "
     ]
    },
    {
     "cell_type": "markdown",
     "metadata": {},
     "source": [
      "<img src=\"https://matehackers.org/_media/matehackers-logo-vetor.jpg?w=400&tok=15b3a8\" width=\"30%\" style=\"display:inline\">\n",
      "<a href=\"http://imgur.com/Xn9xxKf\"><img src=\"http://i.imgur.com/Xn9xxKf.jpg\" style=\"display:inline\" width=\"30%\"></a>\n",
      "<a href=\"https://groups.google.com/forum/#!forum/pytche\"><img src=\"https://raw.githubusercontent.com/PyTche/pytche-site/master/_static/logo_pytche.png\" width=\"30%\" style=\"dislay:inline\" align=\"left\"><a/> "
     ]
    },
    {
     "cell_type": "markdown",
     "metadata": {},
     "source": [
      "#SENHA WIFI (OPENDATA 03):"
     ]
    },
    {
     "cell_type": "markdown",
     "metadata": {},
     "source": [
      "<h2 style=\"background-color: #F00 ; color: #FFF\">opendata2015</h2>"
     ]
    },
    {
     "cell_type": "markdown",
     "metadata": {},
     "source": [
      "#DEPOIS DE ENTRAR NA REDE VISITAR: https://192.168.30.102:8888"
     ]
    },
    {
     "cell_type": "markdown",
     "metadata": {},
     "source": [
      "#ADICIONAR EXCESSAO DE SEGURAN\u00c7A"
     ]
    },
    {
     "cell_type": "markdown",
     "metadata": {},
     "source": [
      "#SENHA: hackaton"
     ]
    },
    {
     "cell_type": "markdown",
     "metadata": {},
     "source": [
      "##O que tem pra hoje?"
     ]
    },
    {
     "cell_type": "markdown",
     "metadata": {},
     "source": [
      "<img src=\"http://i.imgur.com/idLWpV2.gif\" align=\"right\" margin=\"20px\">\n",
      "\n",
      "* Aprender a instalar o ambiente de desenvolvimento em windows/mac/linux etc\n",
      "* Aprender a programar em python\n",
      "* Aprender sobre as diversas bibliotecas que facilitam o trabalho com dados\n",
      "* Aprender sobre matem\u00e1tica e estat\u00edstica\n",
      "* Em 30 min"
     ]
    },
    {
     "cell_type": "markdown",
     "metadata": {},
     "source": [
      "#VAMOS TER QUE PEGAR UM ATALHO <img src=\"http://media0.giphy.com/media/jw0gdHTfazp2U/200.gif\" width=\"30%\" align=\"right\">"
     ]
    },
    {
     "cell_type": "code",
     "collapsed": false,
     "input": [],
     "language": "python",
     "metadata": {},
     "outputs": [],
     "prompt_number": 1
    }
   ],
   "metadata": {}
  }
 ]
}