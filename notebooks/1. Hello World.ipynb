{
 "metadata": {
  "name": "",
  "signature": "sha256:8b51e86d088209c300e6a66aad31dd2c2188f6dbaf3963cdf3f7a3abc1554d73"
 },
 "nbformat": 3,
 "nbformat_minor": 0,
 "worksheets": [
  {
   "cells": [
    {
     "cell_type": "markdown",
     "metadata": {},
     "source": [
      "#CURSO DEMO DE MANIPULACAO DE DADOS USANDO ~~MAGIA~~ PYTHON "
     ]
    },
    {
     "cell_type": "markdown",
     "metadata": {},
     "source": [
      "<img src=\"https://matehackers.org/_media/matehackers-logo-vetor.jpg?w=400&tok=15b3a8\" width=\"30%\" style=\"display:inline\"><a href=\"http://imgur.com/Xn9xxKf\"><img src=\"http://i.imgur.com/Xn9xxKf.jpg\" style=\"display:inline\"/ width=\"30%\"></a>"
     ]
    },
    {
     "cell_type": "markdown",
     "metadata": {},
     "source": [
      "#SENHA WIFI:"
     ]
    },
    {
     "cell_type": "code",
     "collapsed": false,
     "input": [
      "import math ; str(math.pi)[0:10]"
     ],
     "language": "python",
     "metadata": {},
     "outputs": [
      {
       "metadata": {},
       "output_type": "pyout",
       "prompt_number": 10,
       "text": [
        "'3.14159265'"
       ]
      }
     ],
     "prompt_number": 10
    },
    {
     "cell_type": "markdown",
     "metadata": {},
     "source": [
      "#DEPOIS DE ENTRAR NA REDE VISITAR: https://192.168.25.105:88888 ou https://zapdos:8888 se o seu OS for espertinho"
     ]
    },
    {
     "cell_type": "markdown",
     "metadata": {},
     "source": [
      "#ADICIONAR EXCESSAO"
     ]
    },
    {
     "cell_type": "markdown",
     "metadata": {},
     "source": [
      "#SENHA DO NOTEBOOK: hackaton"
     ]
    },
    {
     "cell_type": "markdown",
     "metadata": {},
     "source": [
      "##O que tem pra hoje?"
     ]
    },
    {
     "cell_type": "markdown",
     "metadata": {},
     "source": [
      "<img src=\"http://i.imgur.com/idLWpV2.gif\" align=\"right\" margin=\"20px\">\n",
      "\n",
      "* Aprender a instalar o ambiente de desenvolvimento em windows/mac/linux etc\n",
      "* Aprender a programar em python\n",
      "* Aprender sobre as diversas bibliotecas que facilitam o trabalho com dados\n",
      "* Aprender sobre matem\u00e1tica e estat\u00edstica\n",
      "* Em 30 min"
     ]
    },
    {
     "cell_type": "markdown",
     "metadata": {},
     "source": [
      "#VAMOS TER QUE PEGAR UM ATALHO\n",
      "<img src=\"http://media0.giphy.com/media/jw0gdHTfazp2U/200.gif\" width=\"30%\" align=\"right\">"
     ]
    }
   ],
   "metadata": {}
  }
 ]
}