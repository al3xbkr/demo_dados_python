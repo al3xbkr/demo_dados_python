{
 "metadata": {
  "name": "",
  "signature": "sha256:e3f0324659f6def60a37ab1b9e061bb5b8de16e604d51ebedf2e6484c854ddba"
 },
 "nbformat": 3,
 "nbformat_minor": 0,
 "worksheets": [
  {
   "cells": [
    {
     "cell_type": "markdown",
     "metadata": {},
     "source": [
      "#4 WEB SCRAPPING/CRAWLING<img src=\"http://media.tumblr.com/eeeea78d9be2273c78f9bac601c2d1ab/tumblr_inline_nhop89sf7V1raprkq.gif\" align=\"right\" style=\"display:inline\">"
     ]
    },
    {
     "cell_type": "markdown",
     "metadata": {},
     "source": [
      "#4.1 O que \u00e9\n",
      "\n",
      "* Se dar conta que uma p\u00e1gina da web \u00e9 b\u00e1sicamente um arquivo de texto\n",
      "* Web Crawling ou Scrapping refere-se a pr\u00e1tica de utilizar ferramentas autom\u00e1ticas de aquisi\u00e7\u00e3o e processamento de informa\u00e7\u00f5es contidas na internet sem valer-se de interfaces criadas para isso."
     ]
    },
    {
     "cell_type": "markdown",
     "metadata": {},
     "source": [
      "#4.2 Buscando dados da EPTC"
     ]
    },
    {
     "cell_type": "markdown",
     "metadata": {},
     "source": [
      "A vers\u00e3o completa de um script com funcionalidade similar (usando outras bibliotecas) est\u00e1 dispon\u00edvel no endere\u00e7o. https://github.com/hoarf/urlib2-fun"
     ]
    },
    {
     "cell_type": "markdown",
     "metadata": {},
     "source": [
      "##4.2.1 requests"
     ]
    },
    {
     "cell_type": "markdown",
     "metadata": {},
     "source": [
      "Instala\u00e7\u00e3o:\n",
      "\n",
      "* `pip install requests`\n",
      "\n",
      "Documenta\u00e7\u00e3o:\n",
      "\n",
      "* http://docs.python-requests.org/en/latest/user/quickstart/\n",
      "\n",
      "Objetivo:\n",
      "    \n",
      "* Simular a intera\u00e7\u00f5es com navegadores como por exemplo preencher campos, clicar em bot\u00f5es ou simplesmente recuperar dados.\n",
      "* Na verdade n\u00e3o \u00e9 o navegador que \u00e9 simulado em si, mas sim o pedido que o mesmo faz ao site.\n",
      "* Substituto das `urllib`'s (urlib, urlib2) na biblioteca padr\u00e3o. "
     ]
    },
    {
     "cell_type": "markdown",
     "metadata": {},
     "source": [
      "Exemplo:"
     ]
    },
    {
     "cell_type": "code",
     "collapsed": false,
     "input": [
      "# declara as depend\u00eancias do programa\n",
      "import requests"
     ],
     "language": "python",
     "metadata": {},
     "outputs": [],
     "prompt_number": 1
    },
    {
     "cell_type": "code",
     "collapsed": false,
     "input": [
      "# cria uma vari\u00e1vel contendo o endere\u00e7o da p\u00e1gina que queremos interagir\n",
      "URL = 'http://www.eptc.com.br/EPTC_Itinerarios/Cadastro.asp'"
     ],
     "language": "python",
     "metadata": {},
     "outputs": [],
     "prompt_number": 2
    },
    {
     "cell_type": "code",
     "collapsed": false,
     "input": [
      "# cria uma Hash com as outras informa\u00e7\u00f5es que o site precisa para conseguir os dados que desejamos\n",
      "QUERY_ARGS = { \n",
      "    'Tipo':'TH',\n",
      "    'Linha':'620-11',\n",
      "    'Veiculo':'1',\n",
      "    'Sentido':'0',\n",
      "    'Logradouro':'1'\n",
      "}"
     ],
     "language": "python",
     "metadata": {},
     "outputs": [],
     "prompt_number": 3
    },
    {
     "cell_type": "code",
     "collapsed": false,
     "input": [
      "# obtem a resposta\n",
      "resposta = requests.post(URL, QUERY_ARGS)\n",
      "resposta\n",
      "requests.post?"
     ],
     "language": "python",
     "metadata": {},
     "outputs": [],
     "prompt_number": 14
    },
    {
     "cell_type": "code",
     "collapsed": false,
     "input": [
      "# espiando o resultado\n",
      "texto_resposta = resposta.text"
     ],
     "language": "python",
     "metadata": {},
     "outputs": [],
     "prompt_number": 15
    },
    {
     "cell_type": "markdown",
     "metadata": {},
     "source": [
      "#4.2.2 Beautiful Soup"
     ]
    },
    {
     "cell_type": "markdown",
     "metadata": {},
     "source": [
      "Instala\u00e7\u00e3o:\n",
      "\n",
      "* `sudo pip install beautifulsoup4`\n",
      "\n",
      "Documenta\u00e7\u00e3o:\n",
      "\n",
      "* http://www.crummy.com/software/BeautifulSoup/bs4/doc/\n",
      "    \n",
      "Objetivo:\n",
      "    \n",
      "* Extrair a informa\u00e7\u00e3o relevante do texto das p\u00e1ginas HTML"
     ]
    },
    {
     "cell_type": "code",
     "collapsed": false,
     "input": [
      "# declarando as depend\u00eancias novamente\n",
      "from bs4 import BeautifulSoup"
     ],
     "language": "python",
     "metadata": {},
     "outputs": [],
     "prompt_number": 6
    },
    {
     "cell_type": "code",
     "collapsed": false,
     "input": [
      "# cria uma 'sopa' com a resposta que permite que sejam utilizadas determinadas fun\u00e7\u00f5es dentro do texto\n",
      "sopa =  BeautifulSoup(texto_resposta)"
     ],
     "language": "python",
     "metadata": {},
     "outputs": [],
     "prompt_number": 7
    },
    {
     "cell_type": "code",
     "collapsed": false,
     "input": [
      "#encontra todos os links na p\u00e1gina\n",
      "sopa.findAll('a')"
     ],
     "language": "python",
     "metadata": {},
     "outputs": [
      {
       "metadata": {},
       "output_type": "pyout",
       "prompt_number": 8,
       "text": [
        "[<a href=\"http://www2.portoalegre.rs.gov.br/portal_pmpa_novo/\"><img alt=\"PMPA\" class=\"logo_pmpa\" height=\"128\" src=\"../EPTC_Consultas/images/brasao_pmpa_cor.png\" title=\"PMPA\" width=\"128\"/></a>,\n",
        " <a href=\"http://www.eptc.com.br/\"><img alt=\"EPTC\" class=\"logo_eptc\" height=\"128\" src=\"../EPTC_Consultas/images/logo.png\" title=\"EPTC\" width=\"128\"/></a>,\n",
        " <a href=\"http://www.eptc.com.br\">EPTC</a>,\n",
        " <a hor\u00e1ria=\"\" href=\"Cadastro.asp?Linha=620-5&amp;Tipo=TH&amp;Veiculo=1&amp;Sentido=0&amp;Logradouro=1&amp;Action=Tabela\">520 - TRIANGULO/24 DE OUTUBRO</a>,\n",
        " <a hor\u00e1ria=\"\" href=\"Cadastro.asp?Linha=620-22&amp;Tipo=TH&amp;Veiculo=1&amp;Sentido=0&amp;Logradouro=1&amp;Action=Tabela\">5202 - TRIANGULO/24 DE OUTUBRO/IPA</a>,\n",
        " <a hor\u00e1ria=\"\" href=\"Cadastro.asp?Linha=620-0&amp;Tipo=TH&amp;Veiculo=1&amp;Sentido=0&amp;Logradouro=1&amp;Action=Tabela\">620 - IGUATEMI / V. JARDIM</a>,\n",
        " <a hor\u00e1ria=\"\" href=\"Cadastro.asp?Linha=620-1&amp;Tipo=TH&amp;Veiculo=1&amp;Sentido=0&amp;Logradouro=1&amp;Action=Tabela\">6201 - IGUATEMI / ELIZABETH</a>,\n",
        " <a hor\u00e1ria=\"\" href=\"Cadastro.asp?Linha=620-97&amp;Tipo=TH&amp;Veiculo=1&amp;Sentido=0&amp;Logradouro=1&amp;Action=Tabela\">6204 - IGUATEMI/PARQUE DOS MAIAS</a>]"
       ]
      }
     ],
     "prompt_number": 8
    },
    {
     "cell_type": "code",
     "collapsed": false,
     "input": [
      "# encontra o texto da primeira celula da primeira linha da primeira tabela\n",
      "sopa.table.tr.td.b.a.string"
     ],
     "language": "python",
     "metadata": {},
     "outputs": [
      {
       "metadata": {},
       "output_type": "pyout",
       "prompt_number": 9,
       "text": [
        "u'520 - TRIANGULO/24 DE OUTUBRO'"
       ]
      }
     ],
     "prompt_number": 9
    },
    {
     "cell_type": "code",
     "collapsed": false,
     "input": [
      "# realizando busca\n",
      "sopa.find_all(class_=\"caminho\")"
     ],
     "language": "python",
     "metadata": {},
     "outputs": [
      {
       "metadata": {},
       "output_type": "pyout",
       "prompt_number": 117,
       "text": [
        "[<span class=\"caminho\">Servi\u00e7os</span>,\n",
        " <span class=\"caminho\">Itiner\u00e1rios e Hor\u00e1rios</span>,\n",
        " <span class=\"caminho\">Por Cons\u00f3rcio e por Linha</span>,\n",
        " <span class=\"caminho\">Tabela Hor\u00e1ria</span>]"
       ]
      }
     ],
     "prompt_number": 117
    },
    {
     "cell_type": "code",
     "collapsed": false,
     "input": [
      "# utilizando CSS selectors\n",
      "sopa.select(\"table\")"
     ],
     "language": "python",
     "metadata": {},
     "outputs": [
      {
       "metadata": {},
       "output_type": "pyout",
       "prompt_number": 93,
       "text": [
        "[<table cellpadding=\"0\" cellspacing=\"0\" height=\"100%\" width=\"100%\">\n",
        "         <tbody><tr> \n",
        "             <td bgproperties=\"fixed\" height=\"90%\" valign=\"top\"> \n",
        "                 <div id=\"caixa_perfil\">\n",
        "                       \n",
        "                   <!--   abre t\u00c3\u0083\u00c2\u00adtulo  -->\n",
        "                   <h1>\n",
        "                     <a href=\"http://www.eptc.com.br\">EPTC</a>\n",
        "                      &gt; <span class=\"caminho\">Servi\u00e7os</span> &gt; <span class=\"caminho\">Itiner\u00e1rios e Hor\u00e1rios</span> &gt; <span class=\"caminho\">Por Cons\u00f3rcio e por Linha</span> &gt; <span class=\"caminho\">Tabela Hor\u00e1ria</span>\n",
        "                   </h1>  \n",
        "                   <!--   fecha t\u00c3\u0083\u00c2\u00adtulo  -->\n",
        "                 </div>\n",
        " \n",
        "                 <br/><font align=\"left\" color=\"#5F5B5B\" face=\"verdana\" size=\"2\">As informa\u00e7\u00f5es abaixo relacionadas correspondem a consulta realizada em 11/2/2015</font><p><title>Tabela Hor\u00e1ria</title><font face=\"verdana\" size=\"2\"><b>Veja tamb\u00e9m<br/>Linhas relacionadas: <a hor\u00e1ria=\"\" href=\"Cadastro.asp?Linha=620-5&amp;Tipo=TH&amp;Veiculo=1&amp;Sentido=0&amp;Logradouro=1&amp;Action=Tabela\">520 - TRIANGULO/24 DE OUTUBRO</a>, <a hor\u00e1ria=\"\" href=\"Cadastro.asp?Linha=620-22&amp;Tipo=TH&amp;Veiculo=1&amp;Sentido=0&amp;Logradouro=1&amp;Action=Tabela\">5202 - TRIANGULO/24 DE OUTUBRO/IPA</a>, <a hor\u00e1ria=\"\" href=\"Cadastro.asp?Linha=620-0&amp;Tipo=TH&amp;Veiculo=1&amp;Sentido=0&amp;Logradouro=1&amp;Action=Tabela\">620 - IGUATEMI / V. JARDIM</a>, <a hor\u00e1ria=\"\" href=\"Cadastro.asp?Linha=620-1&amp;Tipo=TH&amp;Veiculo=1&amp;Sentido=0&amp;Logradouro=1&amp;Action=Tabela\">6201 - IGUATEMI / ELIZABETH</a>, <a hor\u00e1ria=\"\" href=\"Cadastro.asp?Linha=620-97&amp;Tipo=TH&amp;Veiculo=1&amp;Sentido=0&amp;Logradouro=1&amp;Action=Tabela\">6204 - IGUATEMI/PARQUE DOS MAIAS</a></b></font></p><p><table align=\"center\" border=\"0\" cellpadding=\"0\" cellspacing=\"0\" width=\"65%\"><tbody><tr align=\"center\"><td><font face=\"verdana\" size=\"3\"><b>Tabela hor\u00e1ria vigente: VERAO</b></font></td></tr><tr align=\"center\"><td><font face=\"verdana\" size=\"2\">Validade de 9/2/2015 \u00e0 13/2/2015</font></td></tr></tbody></table><br/><font face=\"verdana\" size=\"3\"> </font></p><div align=\"center\"><font face=\"verdana\" size=\"3\"><b>5201  - TRIANGULO/24 DE OUTUBRO/PUC                       </b></font></div><font face=\"verdana\" size=\"3\"> </font><div align=\"center\"><font face=\"verdana\" size=\"3\"><b>Cons\u00f3rcio: Conorte<br/><br/></b></font></div><font face=\"verdana\" size=\"2\"> </font><div align=\"center\"><font face=\"verdana\" size=\"2\"><b>BAIR/CENT/BAIR                                    </b></font></div><table align=\"center\" border=\"1\" bordercolor=\"#0B309B\" cellpadding=\"0\" cellspacing=\"0\" width=\"65%\"><tbody><tr bgcolor=\"#459E00\"><th colspan=\"7\"><font color=\"#FFFFFF\" face=\"verdana\" size=\"1\"><div align=\"center\"><b>Dias \u00dateis</b></div></font></th></tr><tr><td bgcolor=\"#FFFFFF\" width=\"75\"><font color=\"#5F5B5B\" face=\"verdana\" size=\"1\"><div align=\"center\"><b>05:45</b></div></font></td><td bgcolor=\"#FFFFFF\" width=\"75\"><font color=\"#5F5B5B\" face=\"verdana\" size=\"1\"><div align=\"center\"><b>06:10</b></div></font></td><td bgcolor=\"#FFFFFF\" width=\"75\"><font color=\"#5F5B5B\" face=\"verdana\" size=\"1\"><div align=\"center\"><b>06:30</b></div></font></td><td bgcolor=\"#FFFFFF\" width=\"75\"><font color=\"#5F5B5B\" face=\"verdana\" size=\"1\"><div align=\"center\"><b>06:50</b></div></font></td><td bgcolor=\"#FFFFFF\" width=\"75\"><font color=\"#5F5B5B\" face=\"verdana\" size=\"1\"><div align=\"center\"><b>07:08</b></div></font></td><td bgcolor=\"#FFFFFF\" width=\"75\"><font color=\"#5F5B5B\" face=\"verdana\" size=\"1\"><div align=\"center\"><b>07:26</b></div></font></td><td bgcolor=\"#FFFFFF\" width=\"75\"><font color=\"#5F5B5B\" face=\"verdana\" size=\"1\"><div align=\"center\"><b>07:44</b></div></font></td></tr><tr><td bgcolor=\"#FFFFFF\" width=\"75\"><font color=\"#5F5B5B\" face=\"verdana\" size=\"1\"><div align=\"center\"><b>08:02</b></div></font></td><td bgcolor=\"#FFFFFF\" width=\"75\"><font color=\"#5F5B5B\" face=\"verdana\" size=\"1\"><div align=\"center\"><b>08:20</b></div></font></td><td bgcolor=\"#FFFFFF\" width=\"75\"><font color=\"#5F5B5B\" face=\"verdana\" size=\"1\"><div align=\"center\"><b>08:40</b></div></font></td><td bgcolor=\"#FFFFFF\" width=\"75\"><font color=\"#5F5B5B\" face=\"verdana\" size=\"1\"><div align=\"center\"><b>09:00</b></div></font></td><td bgcolor=\"#FFFFFF\" width=\"75\"><font color=\"#5F5B5B\" face=\"verdana\" size=\"1\"><div align=\"center\"><b>09:20</b></div></font></td><td bgcolor=\"#FFFFFF\" width=\"75\"><font color=\"#5F5B5B\" face=\"verdana\" size=\"1\"><div align=\"center\"><b>09:40</b></div></font></td><td bgcolor=\"#FFFFFF\" width=\"75\"><font color=\"#5F5B5B\" face=\"verdana\" size=\"1\"><div align=\"center\"><b>10:00</b></div></font></td></tr><tr><td bgcolor=\"#FFFFFF\" width=\"75\"><font color=\"#5F5B5B\" face=\"verdana\" size=\"1\"><div align=\"center\"><b>10:20</b></div></font></td><td bgcolor=\"#FFFFFF\" width=\"75\"><font color=\"#5F5B5B\" face=\"verdana\" size=\"1\"><div align=\"center\"><b>10:40</b></div></font></td><td bgcolor=\"#FFFFFF\" width=\"75\"><font color=\"#5F5B5B\" face=\"verdana\" size=\"1\"><div align=\"center\"><b>11:00</b></div></font></td><td bgcolor=\"#FFFFFF\" width=\"75\"><font color=\"#5F5B5B\" face=\"verdana\" size=\"1\"><div align=\"center\"><b>11:20</b></div></font></td><td bgcolor=\"#FFFFFF\" width=\"75\"><font color=\"#5F5B5B\" face=\"verdana\" size=\"1\"><div align=\"center\"><b>11:40</b></div></font></td><td bgcolor=\"#FFFFFF\" width=\"75\"><font color=\"#5F5B5B\" face=\"verdana\" size=\"1\"><div align=\"center\"><b>12:00</b></div></font></td><td bgcolor=\"#FFFFFF\" width=\"75\"><font color=\"#5F5B5B\" face=\"verdana\" size=\"1\"><div align=\"center\"><b>12:20</b></div></font></td></tr><tr><td bgcolor=\"#FFFFFF\" width=\"75\"><font color=\"#5F5B5B\" face=\"verdana\" size=\"1\"><div align=\"center\"><b>12:40</b></div></font></td><td bgcolor=\"#FFFFFF\" width=\"75\"><font color=\"#5F5B5B\" face=\"verdana\" size=\"1\"><div align=\"center\"><b>13:00</b></div></font></td><td bgcolor=\"#FFFFFF\" width=\"75\"><font color=\"#5F5B5B\" face=\"verdana\" size=\"1\"><div align=\"center\"><b>13:20</b></div></font></td><td bgcolor=\"#FFFFFF\" width=\"75\"><font color=\"#5F5B5B\" face=\"verdana\" size=\"1\"><div align=\"center\"><b>13:40</b></div></font></td><td bgcolor=\"#FFFFFF\" width=\"75\"><font color=\"#5F5B5B\" face=\"verdana\" size=\"1\"><div align=\"center\"><b>14:00</b></div></font></td><td bgcolor=\"#FFFFFF\" width=\"75\"><font color=\"#5F5B5B\" face=\"verdana\" size=\"1\"><div align=\"center\"><b>14:20</b></div></font></td><td bgcolor=\"#FFFFFF\" width=\"75\"><font color=\"#5F5B5B\" face=\"verdana\" size=\"1\"><div align=\"center\"><b>14:40</b></div></font></td></tr><tr><td bgcolor=\"#FFFFFF\" width=\"75\"><font color=\"#5F5B5B\" face=\"verdana\" size=\"1\"><div align=\"center\"><b>15:00</b></div></font></td><td bgcolor=\"#FFFFFF\" width=\"75\"><font color=\"#5F5B5B\" face=\"verdana\" size=\"1\"><div align=\"center\"><b>15:20</b></div></font></td><td bgcolor=\"#FFFFFF\" width=\"75\"><font color=\"#5F5B5B\" face=\"verdana\" size=\"1\"><div align=\"center\"><b>15:40</b></div></font></td><td bgcolor=\"#FFFFFF\" width=\"75\"><font color=\"#5F5B5B\" face=\"verdana\" size=\"1\"><div align=\"center\"><b>16:00</b></div></font></td><td bgcolor=\"#FFFFFF\" width=\"75\"><font color=\"#5F5B5B\" face=\"verdana\" size=\"1\"><div align=\"center\"><b>16:20</b></div></font></td><td bgcolor=\"#FFFFFF\" width=\"75\"><font color=\"#5F5B5B\" face=\"verdana\" size=\"1\"><div align=\"center\"><b>16:40</b></div></font></td><td bgcolor=\"#FFFFFF\" width=\"75\"><font color=\"#5F5B5B\" face=\"verdana\" size=\"1\"><div align=\"center\"><b>17:00</b></div></font></td></tr><tr><td bgcolor=\"#FFFFFF\" width=\"75\"><font color=\"#5F5B5B\" face=\"verdana\" size=\"1\"><div align=\"center\"><b>17:20</b></div></font></td><td bgcolor=\"#FFFFFF\" width=\"75\"><font color=\"#5F5B5B\" face=\"verdana\" size=\"1\"><div align=\"center\"><b>17:40</b></div></font></td><td bgcolor=\"#FFFFFF\" width=\"75\"><font color=\"#5F5B5B\" face=\"verdana\" size=\"1\"><div align=\"center\"><b>18:00</b></div></font></td><td bgcolor=\"#FFFFFF\" width=\"75\"><font color=\"#5F5B5B\" face=\"verdana\" size=\"1\"><div align=\"center\"><b>18:20</b></div></font></td><td bgcolor=\"#FFFFFF\" width=\"75\"><font color=\"#5F5B5B\" face=\"verdana\" size=\"1\"><div align=\"center\"><b>18:40</b></div></font></td><td bgcolor=\"#FFFFFF\" width=\"75\"><font color=\"#5F5B5B\" face=\"verdana\" size=\"1\"><div align=\"center\"><b>19:00</b></div></font></td><td bgcolor=\"#FFFFFF\" width=\"75\"><font color=\"#5F5B5B\" face=\"verdana\" size=\"1\"><div align=\"center\"><b>19:20</b></div></font></td></tr><tr><td bgcolor=\"#FFFFFF\" width=\"75\"><font color=\"#5F5B5B\" face=\"verdana\" size=\"1\"><div align=\"center\"><b>19:40</b></div></font></td><td bgcolor=\"#FFFFFF\" width=\"75\"><font color=\"#5F5B5B\" face=\"verdana\" size=\"1\"><div align=\"center\"><b>20:00</b></div></font></td><td bgcolor=\"#FFFFFF\" width=\"75\"><font color=\"#5F5B5B\" face=\"verdana\" size=\"1\"><div align=\"center\"><b>20:30</b></div></font></td><td bgcolor=\"#FFFFFF\" width=\"75\"><font color=\"#5F5B5B\" face=\"verdana\" size=\"1\"><div align=\"center\"><b>21:00</b></div></font></td><td bgcolor=\"#FFFFFF\" width=\"75\"><font color=\"#5F5B5B\" face=\"verdana\" size=\"1\"><div align=\"center\"><b>21:30</b></div></font></td><td bgcolor=\"#FFFFFF\" width=\"75\"><font color=\"#5F5B5B\" face=\"verdana\" size=\"1\"><div align=\"center\"><b>22:00</b></div></font></td><td bgcolor=\"#FFFFFF\" width=\"75\"><font color=\"#5F5B5B\" face=\"verdana\" size=\"1\"><div align=\"center\"><b>22:30</b></div></font></td></tr></tbody></table><table align=\"center\" border=\"0\" cellpadding=\"0\" cellspacing=\"0\" width=\"30%\"><tbody><tr align=\"left\"><td rowspan=\"3\"><font face=\"verdana\" size=\"1\">Intervalo entre viagens<br/>(em minutos)</font></td><td><font face=\"verdana\" size=\"1\">m\u00ednimo: 18</font></td></tr><tr align=\"left\"><td><font face=\"verdana\" size=\"1\">m\u00e9dio: 20</font></td></tr><tr align=\"left\"><td><font face=\"verdana\" size=\"1\">m\u00e1ximo: 30</font></td></tr></tbody></table><br/><table align=\"center\" border=\"0\" cellpadding=\"0\" cellspacing=\"0\" width=\"65%\"><tbody><tr align=\"center\"><td><font face=\"verdana\" size=\"3\"><b>Tabela hor\u00e1ria vigente: OFICIAL</b></font></td></tr></tbody></table><br/><font face=\"verdana\" size=\"3\"> </font><div align=\"center\"><font face=\"verdana\" size=\"3\"><b>5201  - TRIANGULO/24 DE OUTUBRO/PUC                       </b></font></div><font face=\"verdana\" size=\"3\"> </font><div align=\"center\"><font face=\"verdana\" size=\"3\"><b>Cons\u00f3rcio: Conorte<br/><br/></b></font></div><font face=\"verdana\" size=\"2\"> </font><div align=\"center\"><font face=\"verdana\" size=\"2\"><b>BAIR/CENT/BAIR                                    </b></font></div><table align=\"center\" border=\"1\" bordercolor=\"#0B309B\" cellpadding=\"0\" cellspacing=\"0\" width=\"65%\"><tbody><tr bgcolor=\"#459E00\"><th colspan=\"7\"><font color=\"#FFFFFF\" face=\"verdana\" size=\"1\"><div align=\"center\"><b>S\u00e1bados</b></div></font></th></tr><tr><td bgcolor=\"#FFFFFF\" width=\"75\"><font color=\"#5F5B5B\" face=\"verdana\" size=\"1\"><div align=\"center\"><b>06:00</b></div></font></td><td bgcolor=\"#FFFFFF\" width=\"75\"><font color=\"#5F5B5B\" face=\"verdana\" size=\"1\"><div align=\"center\"><b>06:30</b></div></font></td><td bgcolor=\"#FFFFFF\" width=\"75\"><font color=\"#5F5B5B\" face=\"verdana\" size=\"1\"><div align=\"center\"><b>07:00</b></div></font></td><td bgcolor=\"#FFFFFF\" width=\"75\"><font color=\"#5F5B5B\" face=\"verdana\" size=\"1\"><div align=\"center\"><b>07:30</b></div></font></td><td bgcolor=\"#FFFFFF\" width=\"75\"><font color=\"#5F5B5B\" face=\"verdana\" size=\"1\"><div align=\"center\"><b>08:00</b></div></font></td><td bgcolor=\"#FFFFFF\" width=\"75\"><font color=\"#5F5B5B\" face=\"verdana\" size=\"1\"><div align=\"center\"><b>08:30</b></div></font></td><td bgcolor=\"#FFFFFF\" width=\"75\"><font color=\"#5F5B5B\" face=\"verdana\" size=\"1\"><div align=\"center\"><b>09:00</b></div></font></td></tr><tr><td bgcolor=\"#FFFFFF\" width=\"75\"><font color=\"#5F5B5B\" face=\"verdana\" size=\"1\"><div align=\"center\"><b>09:30</b></div></font></td><td bgcolor=\"#FFFFFF\" width=\"75\"><font color=\"#5F5B5B\" face=\"verdana\" size=\"1\"><div align=\"center\"><b>10:00</b></div></font></td><td bgcolor=\"#FFFFFF\" width=\"75\"><font color=\"#5F5B5B\" face=\"verdana\" size=\"1\"><div align=\"center\"><b>10:30</b></div></font></td><td bgcolor=\"#FFFFFF\" width=\"75\"><font color=\"#5F5B5B\" face=\"verdana\" size=\"1\"><div align=\"center\"><b>11:00</b></div></font></td><td bgcolor=\"#FFFFFF\" width=\"75\"><font color=\"#5F5B5B\" face=\"verdana\" size=\"1\"><div align=\"center\"><b>11:30</b></div></font></td><td bgcolor=\"#FFFFFF\" width=\"75\"><font color=\"#5F5B5B\" face=\"verdana\" size=\"1\"><div align=\"center\"><b>12:00</b></div></font></td><td bgcolor=\"#FFFFFF\" width=\"75\"><font color=\"#5F5B5B\" face=\"verdana\" size=\"1\"><div align=\"center\"><b>12:30</b></div></font></td></tr><tr><td bgcolor=\"#FFFFFF\" width=\"75\"><font color=\"#5F5B5B\" face=\"verdana\" size=\"1\"><div align=\"center\"><b>13:00</b></div></font></td><td bgcolor=\"#FFFFFF\" width=\"75\"><font color=\"#5F5B5B\" face=\"verdana\" size=\"1\"><div align=\"center\"><b>13:30</b></div></font></td><td bgcolor=\"#FFFFFF\" width=\"75\"><font color=\"#5F5B5B\" face=\"verdana\" size=\"1\"><div align=\"center\"><b>14:00</b></div></font></td><td bgcolor=\"#FFFFFF\" width=\"75\"><font color=\"#5F5B5B\" face=\"verdana\" size=\"1\"><div align=\"center\"><b>14:30</b></div></font></td><td bgcolor=\"#FFFFFF\" width=\"75\"><font color=\"#5F5B5B\" face=\"verdana\" size=\"1\"><div align=\"center\"><b>15:00</b></div></font></td><td bgcolor=\"#FFFFFF\" width=\"75\"><font color=\"#5F5B5B\" face=\"verdana\" size=\"1\"><div align=\"center\"><b>15:30</b></div></font></td><td bgcolor=\"#FFFFFF\" width=\"75\"><font color=\"#5F5B5B\" face=\"verdana\" size=\"1\"><div align=\"center\"><b>16:00</b></div></font></td></tr><tr><td bgcolor=\"#FFFFFF\" width=\"75\"><font color=\"#5F5B5B\" face=\"verdana\" size=\"1\"><div align=\"center\"><b>16:30</b></div></font></td><td bgcolor=\"#FFFFFF\" width=\"75\"><font color=\"#5F5B5B\" face=\"verdana\" size=\"1\"><div align=\"center\"><b>17:00</b></div></font></td><td bgcolor=\"#FFFFFF\" width=\"75\"><font color=\"#5F5B5B\" face=\"verdana\" size=\"1\"><div align=\"center\"><b>17:30</b></div></font></td><td bgcolor=\"#FFFFFF\" width=\"75\"><font color=\"#5F5B5B\" face=\"verdana\" size=\"1\"><div align=\"center\"><b>18:00</b></div></font></td><td bgcolor=\"#FFFFFF\" width=\"75\"><font color=\"#5F5B5B\" face=\"verdana\" size=\"1\"><div align=\"center\"><b>18:30</b></div></font></td><td bgcolor=\"#FFFFFF\" width=\"75\"><font color=\"#5F5B5B\" face=\"verdana\" size=\"1\"><div align=\"center\"><b>19:00</b></div></font></td><td bgcolor=\"#FFFFFF\" width=\"75\"><font color=\"#5F5B5B\" face=\"verdana\" size=\"1\"><div align=\"center\"><b>19:30</b></div></font></td></tr><tr><td bgcolor=\"#FFFFFF\" width=\"75\"><font color=\"#5F5B5B\" face=\"verdana\" size=\"1\"><div align=\"center\"><b>20:00</b></div></font></td><td bgcolor=\"#FFFFFF\" width=\"75\"><font color=\"#5F5B5B\" face=\"verdana\" size=\"1\"><div align=\"center\"><b>20:30</b></div></font></td><td bgcolor=\"#FFFFFF\" width=\"75\"><font color=\"#5F5B5B\" face=\"verdana\" size=\"1\"><div align=\"center\"><b>21:00</b></div></font></td><td bgcolor=\"#FFFFFF\" width=\"75\"><font color=\"#5F5B5B\" face=\"verdana\" size=\"1\"><div align=\"center\"><b>21:30</b></div></font></td><td bgcolor=\"#FFFFFF\" width=\"75\"><font color=\"#5F5B5B\" face=\"verdana\" size=\"1\"><div align=\"center\"><b>22:00</b></div></font></td><td><font color=\"#5F5B5B\" face=\"verdana\" size=\"1\"> <div align=\"center\"><b>\u00a0</b></div></font></td><td><font color=\"#5F5B5B\" face=\"verdana\" size=\"1\"> <div align=\"center\"><b>\u00a0</b></div></font></td></tr></tbody></table><table align=\"center\" border=\"0\" cellpadding=\"0\" cellspacing=\"0\" width=\"30%\"><tbody><tr align=\"left\"><td rowspan=\"3\"><font face=\"verdana\" size=\"1\">Intervalo entre viagens<br/>(em minutos)</font></td><td><font face=\"verdana\" size=\"1\">m\u00ednimo: 30</font></td></tr><tr align=\"left\"><td><font face=\"verdana\" size=\"1\">m\u00e9dio: 30</font></td></tr><tr align=\"left\"><td><font face=\"verdana\" size=\"1\">m\u00e1ximo: 30</font></td></tr></tbody></table><br/>\n",
        " <br/><div align=\"right\"><input class=\"formatoBotao\" onclick=\"javascript:window.close(); return false\" type=\"button\" value=\"Fechar\"/>\n",
        " </div>\n",
        " \n",
        " \t\t\t</td>\n",
        " \t\t</tr>\n",
        " \t</tbody></table>,\n",
        " <table align=\"center\" border=\"0\" cellpadding=\"0\" cellspacing=\"0\" width=\"65%\"><tbody><tr align=\"center\"><td><font face=\"verdana\" size=\"3\"><b>Tabela hor\u00e1ria vigente: VERAO</b></font></td></tr><tr align=\"center\"><td><font face=\"verdana\" size=\"2\">Validade de 9/2/2015 \u00e0 13/2/2015</font></td></tr></tbody></table>]"
       ]
      }
     ],
     "prompt_number": 93
    },
    {
     "cell_type": "code",
     "collapsed": false,
     "input": [],
     "language": "python",
     "metadata": {},
     "outputs": []
    }
   ],
   "metadata": {}
  }
 ]
}