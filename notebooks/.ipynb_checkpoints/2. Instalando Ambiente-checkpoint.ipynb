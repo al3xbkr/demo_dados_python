{
 "metadata": {
  "name": "",
  "signature": "sha256:9540e12554b41e3d40d57407d1bfec66c5706441cc606ee2291474cf1271ba0d"
 },
 "nbformat": 3,
 "nbformat_minor": 0,
 "worksheets": [
  {
   "cells": [
    {
     "cell_type": "markdown",
     "metadata": {},
     "source": [
      "#INSTALANDO O AMBIENTE"
     ]
    },
    {
     "cell_type": "markdown",
     "metadata": {},
     "source": [
      "Existem in\u00fameras vari\u00e1veis que podem dar problema na hora de instalar um ambiente por isso eu recomendo a utiliza\u00e7\u00e3o de um ambiente virtual como o virtualbox com uma m\u00e1quina padr\u00e3o para que todos consigam trabalhar de maneira consistente"
     ]
    },
    {
     "cell_type": "markdown",
     "metadata": {},
     "source": [
      "##[Data Science Toolbox](http://datasciencetoolbox.org/)"
     ]
    },
    {
     "cell_type": "markdown",
     "metadata": {},
     "source": [
      "M\u00e1quina virtual contendo a maior parte das depend\u00eancias necess\u00e1rias pra este curso"
     ]
    },
    {
     "cell_type": "markdown",
     "metadata": {},
     "source": [
      "###Requisitos\n",
      "\n",
      "* VirtualBox (https://www.virtualbox.org/wiki/Downloads)\n",
      "* Vagrant (http://www.vagrantup.com/downloads.html)"
     ]
    },
    {
     "cell_type": "markdown",
     "metadata": {},
     "source": [
      "####Sequ\u00eancia de passos que provavelmente ir\u00e1 funcionar\n",
      "\n",
      "\n",
      "* Linux (testado linux mint 17)\n",
      "  1. Baixar e instalar o virtualbox:\n",
      "  \n",
      "    * `sudo apt-get install virtualbox linux-headers-generic virtualbox-dkms`\n",
      "  2. Baixar e instalar o vagrant:\n",
      "\n",
      "    * `wget https://dl.bintray.com/mitchellh/vagrant/vagrant_1.7.2_x86_64.deb && sudo chmod a+x vagrant_1.7.2_x86_64.deb && sudo ./!$`\n",
      "    * Seguir os passos da caixa de di\u00e1logo que aparecer\u00e1\n",
      "  3. Criar um diret\u00f3rio para os arquivos do curso:\n",
      "  \n",
      "    * `mkdir data-fun && cd !#:1`\n",
      "  4. Baixar o Vagrantfile do Data Science Toolbox contendo a defini\u00e7\u00e3o da m\u00e1quina virtual a ser usada\n",
      "    * `vagrant init data-science-toolbox/dst`\n",
      "  5. Configurar a porta para acessar o notebook\n",
      "    * Colocar isso aqui mais ou menos na linha 25 do arquivo \"Vagrantfile\":\n",
      "    \n",
      "        `config.vm.network \"forwarded_port\", guest: 8888, host: 8888`    \n",
      "  6. Baixar a m\u00e1quina virtual ~~e derrubar a nossa internet~~:\n",
      "    * `vagrant up`\n",
      "  7. Acessar a m\u00e1quina virtual pela linha de comando\n",
      "    * `vagrant ssh`\n",
      "  8. Iniciar o servidor do ipython notebook e configurar uma senha de acesso\n",
      "    * `vagrant init data-science-toolbox/dst`\n",
      "  9. Acessar no seu navegador o endere\u00e7o:\n",
      "    * https://localhost:8888\n",
      "    * Pode ser necess\u00e1rio adicionar uma excess\u00e3o de seguran\u00e7a pra dizer pro seu computador que voc\u00ea confia em voc\u00ea mesmo\n",
      "* Windows\n",
      "  \n",
      "  <img src=\"http://media3.giphy.com/media/10PcMWwtZSYk2k/200.gif\">\n",
      "\n",
      "* MAC\n",
      "\n",
      "  <img src=\"http://media1.giphy.com/media/94EQmVHkveNck/200.gif\">"
     ]
    }
   ],
   "metadata": {}
  }
 ]
}