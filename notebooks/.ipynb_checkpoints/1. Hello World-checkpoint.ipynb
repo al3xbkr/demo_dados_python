{
 "metadata": {
  "name": "",
  "signature": "sha256:942c0ef9fdab38b3f377498bd99baaf0ba0fc77ea0e6eee8c1911a29edc9882b"
 },
 "nbformat": 3,
 "nbformat_minor": 0,
 "worksheets": [
  {
   "cells": [
    {
     "cell_type": "markdown",
     "metadata": {},
     "source": [
      "#CURSO DEMO DE MANIPULACAO DE DADOS USANDO ~~MAGIA~~ PYTHON "
     ]
    },
    {
     "cell_type": "markdown",
     "metadata": {},
     "source": [
      "<img src=\"https://matehackers.org/_media/matehackers-logo-vetor.jpg?w=400&tok=15b3a8\" width=\"30%\" style=\"display:inline\"><a href=\"http://imgur.com/Xn9xxKf\"><img src=\"http://i.imgur.com/Xn9xxKf.jpg\" style=\"display:inline\"/ width=\"30%\"></a>"
     ]
    },
    {
     "cell_type": "markdown",
     "metadata": {},
     "source": [
      "##O que tem pra hoje?"
     ]
    },
    {
     "cell_type": "markdown",
     "metadata": {},
     "source": [
      "<img src=\"http://i.imgur.com/idLWpV2.gif\" align=\"right\" margin=\"20px\">\n",
      "\n",
      "* Aprender a instalar o ambiente de desenvolvimento em windows/mac/linux etc\n",
      "* Aprender a programar em python\n",
      "* Aprender sobre as diversas bibliotecas que facilitam o trabalho com dados\n",
      "* Aprender sobre matem\u00e1tica e estat\u00edstica\n",
      "* Em 30 min"
     ]
    },
    {
     "cell_type": "markdown",
     "metadata": {},
     "source": [
      "#VAMOS TER QUE PEGAR UM ATALHO\n",
      "<img src=\"http://media0.giphy.com/media/jw0gdHTfazp2U/200.gif\" width=\"30%\" align=\"right\">"
     ]
    }
   ],
   "metadata": {}
  }
 ]
}