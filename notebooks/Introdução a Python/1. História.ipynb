{
 "metadata": {
  "name": "",
  "signature": "sha256:363619f3df5248d7a46b7bc81b9f9863815aef4bb093d3a9991679f70b3e7d67"
 },
 "nbformat": 3,
 "nbformat_minor": 0,
 "worksheets": [
  {
   "cells": [
    {
     "cell_type": "markdown",
     "metadata": {},
     "source": [
      "<img src=\"https://upload.wikimedia.org/wikipedia/commons/thumb/f/f8/Python_logo_and_wordmark.svg/250px-Python_logo_and_wordmark.svg.png\"/>"
     ]
    },
    {
     "cell_type": "markdown",
     "metadata": {},
     "source": [
      "<img src=\"https://upload.wikimedia.org/wikipedia/commons/thumb/6/66/Guido_van_Rossum_OSCON_2006.jpg/220px-Guido_van_Rossum_OSCON_2006.jpg\" align=\"right\">\n",
      "\n",
      "* Criado por Guido van Rossum em 1989\n",
      "* Multiparadigma:\n",
      "    * Orienta\u00e7\u00e3o a Objetos\n",
      "    * Programa\u00e7\u00e3o estruturada\n",
      "    * Funcional?\n",
      "\n",
      "## Vantagens\n",
      "\n",
      "* Open Source\n",
      "* Grande comunidade com v\u00e1rias bibliotecas \n",
      "* F\u00e1cil de aprender\n",
      "\n",
      "## Filosofia\n",
      "\n",
      "* Bonito \u00e9 melhor do que feio\n",
      "* Explicito \u00e9 melhor do que implicito\n",
      "* Simples \u00e9 melhor do que complexo\n",
      "* Complexo \u00e9 melhor do que complicado\n",
      "* Esparso \u00e9 melhor do que denso\n",
      "* Facilidade de Leitura conta\n",
      "* etc.."
     ]
    },
    {
     "cell_type": "code",
     "collapsed": false,
     "input": [
      "import this"
     ],
     "language": "python",
     "metadata": {},
     "outputs": [],
     "prompt_number": 2
    },
    {
     "cell_type": "code",
     "collapsed": false,
     "input": [
      "ls"
     ],
     "language": "python",
     "metadata": {},
     "outputs": [
      {
       "output_type": "stream",
       "stream": "stdout",
       "text": [
        "README.md  \u001b[0m\u001b[01;34mnotebooks\u001b[0m/  \u001b[01;34mrepos\u001b[0m/\r\n"
       ]
      }
     ],
     "prompt_number": 2
    }
   ],
   "metadata": {}
  }
 ]
}