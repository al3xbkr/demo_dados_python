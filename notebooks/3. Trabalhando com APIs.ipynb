{
 "metadata": {
  "name": "",
  "signature": "sha256:108751ca89afd02ef3ddf49b821d22c828b9b80ff4c8943061fd2dbfa5aa30d3"
 },
 "nbformat": 3,
 "nbformat_minor": 0,
 "worksheets": [
  {
   "cells": [
    {
     "cell_type": "markdown",
     "metadata": {},
     "source": [
      "#3. Interfaces de Aplica\u00e7\u00f5es (API)"
     ]
    },
    {
     "cell_type": "code",
     "collapsed": false,
     "input": [
      "import requests\n",
      "import json"
     ],
     "language": "python",
     "metadata": {},
     "outputs": [],
     "prompt_number": 2
    },
    {
     "cell_type": "code",
     "collapsed": false,
     "input": [
      "raw_data = requests.get('http://pokeapi.co/api/v1/pokemon/1').text"
     ],
     "language": "python",
     "metadata": {},
     "outputs": [],
     "prompt_number": 4
    },
    {
     "cell_type": "code",
     "collapsed": false,
     "input": [
      "bulbasaur = json.loads(raw_data)"
     ],
     "language": "python",
     "metadata": {},
     "outputs": [],
     "prompt_number": 5
    },
    {
     "cell_type": "code",
     "collapsed": false,
     "input": [
      "bulbasaur.viewkeys()"
     ],
     "language": "python",
     "metadata": {},
     "outputs": [
      {
       "metadata": {},
       "output_type": "pyout",
       "prompt_number": 42,
       "text": [
        "dict_keys([u'egg_cycles', u'abilities', u'weight', u'national_id', u'height', u'defense', u'sp_atk', u'descriptions', u'ev_yield', u'moves', u'speed', u'species', u'happiness', u'egg_groups', u'total', u'attack', u'growth_rate', u'pkdx_id', u'hp', u'catch_rate', u'sp_def', u'types', u'name', u'created', u'modified', u'male_female_ratio', u'exp', u'evolutions', u'sprites', u'resource_uri'])"
       ]
      }
     ],
     "prompt_number": 42
    },
    {
     "cell_type": "code",
     "collapsed": false,
     "input": [
      "bulbasaur['evolutions']"
     ],
     "language": "python",
     "metadata": {},
     "outputs": [
      {
       "metadata": {},
       "output_type": "pyout",
       "prompt_number": 45,
       "text": [
        "[{u'level': 16,\n",
        "  u'method': u'level_up',\n",
        "  u'resource_uri': u'/api/v1/pokemon/2/',\n",
        "  u'to': u'Ivysaur'}]"
       ]
      }
     ],
     "prompt_number": 45
    },
    {
     "cell_type": "markdown",
     "metadata": {},
     "source": [
      "# Vantagens\n",
      "\n",
      "* Facilitam o trabalho (\u00e0s vezes)\n",
      "\n",
      "# Desvantagens\n",
      "\n",
      "* Frequentemente exp\u00f5e menos funcionalidade do que a p\u00e1gina visitada na web\n",
      "* Est\u00e1 limitada ao que o dono do site acha que voc\u00ea deve ter\n",
      "* N\u00e3o constuman ter suporte por longos per\u00edodos de tempo"
     ]
    },
    {
     "cell_type": "code",
     "collapsed": false,
     "input": [],
     "language": "python",
     "metadata": {},
     "outputs": []
    }
   ],
   "metadata": {}
  }
 ]
}